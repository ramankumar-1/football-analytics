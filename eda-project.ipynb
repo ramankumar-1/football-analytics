{
  "nbformat": 4,
  "nbformat_minor": 0,
  "metadata": {
    "colab": {
      "provenance": [],
      "authorship_tag": "ABX9TyMeKD+eMBP7g+cqCIRy2Vyu"
    },
    "kernelspec": {
      "name": "python3",
      "display_name": "Python 3"
    },
    "language_info": {
      "name": "python"
    }
  },
  "cells": [
    {
      "cell_type": "code",
      "execution_count": null,
      "metadata": {
        "id": "prX789avVK2w"
      },
      "outputs": [],
      "source": []
    }
  ]
}